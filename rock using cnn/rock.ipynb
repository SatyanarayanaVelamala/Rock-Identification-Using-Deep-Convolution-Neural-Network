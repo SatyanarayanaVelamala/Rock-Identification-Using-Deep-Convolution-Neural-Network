{
 "cells": [
  {
   "cell_type": "code",
   "execution_count": 1,
   "metadata": {},
   "outputs": [
    {
     "name": "stderr",
     "output_type": "stream",
     "text": [
      "Using TensorFlow backend.\n"
     ]
    }
   ],
   "source": [
    "from keras.models import Sequential\n",
    "from keras.layers import Dense\n",
    "from keras.layers import Convolution2D\n",
    "from keras.layers import MaxPooling2D\n",
    "from keras.layers import Flatten"
   ]
  },
  {
   "cell_type": "code",
   "execution_count": 2,
   "metadata": {},
   "outputs": [],
   "source": [
    "model = Sequential()"
   ]
  },
  {
   "cell_type": "code",
   "execution_count": 3,
   "metadata": {},
   "outputs": [],
   "source": [
    "model.add(Convolution2D(32,(3,3),input_shape = (64,64,3),activation = 'relu'))"
   ]
  },
  {
   "cell_type": "code",
   "execution_count": 4,
   "metadata": {},
   "outputs": [],
   "source": [
    "model.add(MaxPooling2D(pool_size = (2,2)))"
   ]
  },
  {
   "cell_type": "code",
   "execution_count": 5,
   "metadata": {},
   "outputs": [],
   "source": [
    "model.add(Flatten())"
   ]
  },
  {
   "cell_type": "code",
   "execution_count": 6,
   "metadata": {},
   "outputs": [
    {
     "name": "stderr",
     "output_type": "stream",
     "text": [
      "C:\\Users\\satyanarayana\\satya\\envs\\tensorflow\\lib\\site-packages\\ipykernel_launcher.py:1: UserWarning: Update your `Dense` call to the Keras 2 API: `Dense(activation=\"relu\", units=128, kernel_initializer=\"uniform\")`\n",
      "  \"\"\"Entry point for launching an IPython kernel.\n"
     ]
    }
   ],
   "source": [
    "model.add(Dense(output_dim = 128 ,init = 'uniform',activation = 'relu'))"
   ]
  },
  {
   "cell_type": "code",
   "execution_count": 7,
   "metadata": {},
   "outputs": [
    {
     "name": "stderr",
     "output_type": "stream",
     "text": [
      "C:\\Users\\satyanarayana\\satya\\envs\\tensorflow\\lib\\site-packages\\ipykernel_launcher.py:1: UserWarning: Update your `Dense` call to the Keras 2 API: `Dense(activation=\"sigmoid\", units=1, kernel_initializer=\"uniform\")`\n",
      "  \"\"\"Entry point for launching an IPython kernel.\n"
     ]
    }
   ],
   "source": [
    "model.add(Dense(output_dim = 1, activation = 'sigmoid',init = 'uniform'))"
   ]
  },
  {
   "cell_type": "code",
   "execution_count": 8,
   "metadata": {},
   "outputs": [],
   "source": [
    "from keras.preprocessing.image import ImageDataGenerator\n",
    "train_datagen = ImageDataGenerator(rescale = 1./255,shear_range = 0.2,zoom_range = 0.2,horizontal_flip = True)\n",
    "test_datagen = ImageDataGenerator(rescale = 1./255)"
   ]
  },
  {
   "cell_type": "code",
   "execution_count": 9,
   "metadata": {},
   "outputs": [
    {
     "name": "stdout",
     "output_type": "stream",
     "text": [
      "Found 11998 images belonging to 1 classes.\n",
      "Found 7534 images belonging to 1 classes.\n"
     ]
    }
   ],
   "source": [
    "x_train = train_datagen.flow_from_directory(r'E:\\dataset3\\DataSet\\train_set',target_size = (64,64),batch_size = 32, class_mode = 'binary')\n",
    "x_test = test_datagen.flow_from_directory(r'E:\\dataset3\\DataSet\\test_set',target_size = (64,64),batch_size = 32, class_mode = 'binary')"
   ]
  },
  {
   "cell_type": "code",
   "execution_count": 10,
   "metadata": {},
   "outputs": [],
   "source": [
    "model.compile(loss = 'binary_crossentropy',optimizer = \"adam\",metrics = [\"accuracy\"])"
   ]
  },
  {
   "cell_type": "code",
   "execution_count": 11,
   "metadata": {},
   "outputs": [
    {
     "name": "stderr",
     "output_type": "stream",
     "text": [
      "C:\\Users\\satyanarayana\\satya\\envs\\tensorflow\\lib\\site-packages\\ipykernel_launcher.py:1: UserWarning: The semantics of the Keras 2 argument `steps_per_epoch` is not the same as the Keras 1 argument `samples_per_epoch`. `steps_per_epoch` is the number of batches to draw from the generator at each epoch. Basically steps_per_epoch = samples_per_epoch/batch_size. Similarly `nb_val_samples`->`validation_steps` and `val_samples`->`steps` arguments have changed. Update your method calls accordingly.\n",
      "  \"\"\"Entry point for launching an IPython kernel.\n",
      "C:\\Users\\satyanarayana\\satya\\envs\\tensorflow\\lib\\site-packages\\ipykernel_launcher.py:1: UserWarning: Update your `fit_generator` call to the Keras 2 API: `fit_generator(<keras.pre..., epochs=25, validation_data=<keras.pre..., steps_per_epoch=11, validation_steps=235)`\n",
      "  \"\"\"Entry point for launching an IPython kernel.\n"
     ]
    },
    {
     "name": "stdout",
     "output_type": "stream",
     "text": [
      "Epoch 1/25\n",
      "11/11 [==============================] - 483s 44s/step - loss: 0.1141 - accuracy: 0.9830 - val_loss: 0.0014 - val_accuracy: 1.0000\n",
      "Epoch 2/25\n",
      "11/11 [==============================] - 418s 38s/step - loss: 2.5760e-04 - accuracy: 1.0000 - val_loss: 5.7279e-06 - val_accuracy: 1.0000\n",
      "Epoch 3/25\n",
      "11/11 [==============================] - 468s 43s/step - loss: 6.3536e-06 - accuracy: 1.0000 - val_loss: 2.8461e-07 - val_accuracy: 1.0000\n",
      "Epoch 4/25\n",
      "11/11 [==============================] - 279s 25s/step - loss: 2.1054e-06 - accuracy: 1.0000 - val_loss: 2.1748e-08 - val_accuracy: 1.0000\n",
      "Epoch 5/25\n",
      "11/11 [==============================] - 90s 8s/step - loss: 3.8683e-07 - accuracy: 1.0000 - val_loss: 2.4255e-10 - val_accuracy: 1.0000\n",
      "Epoch 6/25\n",
      "11/11 [==============================] - 88s 8s/step - loss: 8.6055e-07 - accuracy: 1.0000 - val_loss: 1.9280e-07 - val_accuracy: 1.0000\n",
      "Epoch 7/25\n",
      "11/11 [==============================] - 88s 8s/step - loss: 4.9051e-07 - accuracy: 1.0000 - val_loss: 4.9441e-09 - val_accuracy: 1.0000\n",
      "Epoch 8/25\n",
      "11/11 [==============================] - 194s 18s/step - loss: 3.8293e-07 - accuracy: 1.0000 - val_loss: 4.0055e-09 - val_accuracy: 1.0000\n",
      "Epoch 9/25\n",
      "11/11 [==============================] - 133s 12s/step - loss: 5.3532e-07 - accuracy: 1.0000 - val_loss: 1.7925e-08 - val_accuracy: 1.0000\n",
      "Epoch 10/25\n",
      "11/11 [==============================] - 91s 8s/step - loss: 6.7056e-07 - accuracy: 1.0000 - val_loss: 1.0509e-08 - val_accuracy: 1.0000\n",
      "Epoch 11/25\n",
      "11/11 [==============================] - 89s 8s/step - loss: 9.3687e-08 - accuracy: 1.0000 - val_loss: 2.1369e-07 - val_accuracy: 1.0000\n",
      "Epoch 12/25\n",
      "11/11 [==============================] - 90s 8s/step - loss: 7.9086e-07 - accuracy: 1.0000 - val_loss: 3.2851e-09 - val_accuracy: 1.0000\n",
      "Epoch 13/25\n",
      "11/11 [==============================] - 89s 8s/step - loss: 4.9812e-07 - accuracy: 1.0000 - val_loss: 1.1035e-08 - val_accuracy: 1.0000\n",
      "Epoch 14/25\n",
      "11/11 [==============================] - 88s 8s/step - loss: 3.9627e-07 - accuracy: 1.0000 - val_loss: 1.0964e-06 - val_accuracy: 1.0000\n",
      "Epoch 15/25\n",
      "11/11 [==============================] - 89s 8s/step - loss: 7.9114e-07 - accuracy: 1.0000 - val_loss: 7.4345e-09 - val_accuracy: 1.0000\n",
      "Epoch 16/25\n",
      "11/11 [==============================] - 89s 8s/step - loss: 3.8609e-07 - accuracy: 1.0000 - val_loss: 7.1345e-07 - val_accuracy: 1.0000\n",
      "Epoch 17/25\n",
      "11/11 [==============================] - 91s 8s/step - loss: 4.2441e-07 - accuracy: 1.0000 - val_loss: 2.2901e-07 - val_accuracy: 1.0000\n",
      "Epoch 18/25\n",
      "11/11 [==============================] - 89s 8s/step - loss: 5.9420e-07 - accuracy: 1.0000 - val_loss: 2.2399e-10 - val_accuracy: 1.0000\n",
      "Epoch 19/25\n",
      "11/11 [==============================] - 89s 8s/step - loss: 6.6235e-07 - accuracy: 1.0000 - val_loss: 7.6012e-09 - val_accuracy: 1.0000\n",
      "Epoch 20/25\n",
      "11/11 [==============================] - 90s 8s/step - loss: 5.7278e-07 - accuracy: 1.0000 - val_loss: 9.6400e-07 - val_accuracy: 1.0000\n",
      "Epoch 21/25\n",
      "11/11 [==============================] - 89s 8s/step - loss: 2.4293e-07 - accuracy: 1.0000 - val_loss: 8.2054e-08 - val_accuracy: 1.0000\n",
      "Epoch 22/25\n",
      "11/11 [==============================] - 89s 8s/step - loss: 4.8240e-07 - accuracy: 1.0000 - val_loss: 4.6823e-07 - val_accuracy: 1.0000\n",
      "Epoch 23/25\n",
      "11/11 [==============================] - 92s 8s/step - loss: 3.4508e-07 - accuracy: 1.0000 - val_loss: 3.3378e-08 - val_accuracy: 1.0000\n",
      "Epoch 24/25\n",
      "11/11 [==============================] - 91s 8s/step - loss: 4.0041e-07 - accuracy: 1.0000 - val_loss: 1.8197e-09 - val_accuracy: 1.0000\n",
      "Epoch 25/25\n",
      "11/11 [==============================] - 91s 8s/step - loss: 7.6316e-07 - accuracy: 1.0000 - val_loss: 1.3192e-07 - val_accuracy: 1.0000\n"
     ]
    },
    {
     "data": {
      "text/plain": [
       "<keras.callbacks.callbacks.History at 0x2201b805348>"
      ]
     },
     "execution_count": 11,
     "metadata": {},
     "output_type": "execute_result"
    }
   ],
   "source": [
    "model.fit_generator(x_train, samples_per_epoch = 375,epochs = 25,validation_data = x_test,nb_val_samples = 235)"
   ]
  },
  {
   "cell_type": "code",
   "execution_count": 12,
   "metadata": {},
   "outputs": [],
   "source": [
    "model.save('mymodel.h5')"
   ]
  },
  {
   "cell_type": "code",
   "execution_count": null,
   "metadata": {},
   "outputs": [],
   "source": []
  }
 ],
 "metadata": {
  "kernelspec": {
   "display_name": "Python 3",
   "language": "python",
   "name": "python3"
  },
  "language_info": {
   "codemirror_mode": {
    "name": "ipython",
    "version": 3
   },
   "file_extension": ".py",
   "mimetype": "text/x-python",
   "name": "python",
   "nbconvert_exporter": "python",
   "pygments_lexer": "ipython3",
   "version": "3.7.7"
  }
 },
 "nbformat": 4,
 "nbformat_minor": 4
}
